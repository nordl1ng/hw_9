{
 "cells": [
  {
   "cell_type": "markdown",
   "id": "8bac359a",
   "metadata": {},
   "source": [
    "Даны значения величины заработной платы заемщиков банка (zp) и значения их поведенческого кредитного скоринга (ks):  \n",
    "zp = [35, 45, 190, 200, 40, 70, 54, 150, 120, 110]  \n",
    "ks = [401, 574, 874, 919, 459, 739, 653, 902, 746, 832]  \n",
    "*Задание 1*   \n",
    "    Используя математические операции, посчитать коэффициенты линейной регрессии, приняв за X заработную плату (то есть, zp - признак), а за Y - значения скорингового балла (то есть, ks - целевая переменная).   \n",
    "Произвести расчет как с использованием intercept, так и без.\n",
    "Посчитать коэффициент линейной регрессии при заработной плате (zp), используя градиентный спуск (без intercept)."
   ]
  },
  {
   "cell_type": "code",
   "execution_count": 2,
   "id": "a959dfc6",
   "metadata": {},
   "outputs": [],
   "source": [
    "import scipy.stats as stats\n",
    "import numpy as np\n",
    "import scipy as sp\n",
    "import matplotlib.pyplot as plt"
   ]
  },
  {
   "cell_type": "code",
   "execution_count": 3,
   "id": "3e43d4a8",
   "metadata": {},
   "outputs": [
    {
     "data": {
      "text/plain": [
       "<function matplotlib.pyplot.show(close=None, block=None)>"
      ]
     },
     "execution_count": 3,
     "metadata": {},
     "output_type": "execute_result"
    },
    {
     "data": {
      "image/png": "[encoded data removed]",
      "text/plain": [
       "<Figure size 432x288 with 1 Axes>"
      ]
     },
     "metadata": {
      "needs_background": "light"
     },
     "output_type": "display_data"
    }
   ],
   "source": [
    "# Проверка наличия зависимости по графику\n",
    "zp = np.array([35, 45, 190, 200, 40, 70, 54, 150, 120, 110])\n",
    "ks = np.array([401, 574, 874, 919, 459, 739, 653, 902, 746, 832])\n",
    "plt.scatter(zp, ks)\n",
    "plt.show"
   ]
  },
  {
   "cell_type": "markdown",
   "id": "62958b5c",
   "metadata": {},
   "source": [
    "*Расчет с intercept:*  \n",
    "По графику наблюдается линейная зависимость, описываемая уравнением ks (Y) = a + b * zp (X)"
   ]
  },
  {
   "cell_type": "code",
   "execution_count": 6,
   "id": "c6264b82",
   "metadata": {},
   "outputs": [
    {
     "data": {
      "text/plain": [
       "2.6205388824027653"
      ]
     },
     "execution_count": 6,
     "metadata": {},
     "output_type": "execute_result"
    }
   ],
   "source": [
    "n = len (zp)\n",
    "b = (n * np.sum(zp*ks) - np.sum(zp) * np.sum(ks)) / (n * np.sum(zp**2)-np.sum(zp)**2)\n",
    "b"
   ]
  },
  {
   "cell_type": "code",
   "execution_count": 7,
   "id": "0e0934be",
   "metadata": {},
   "outputs": [
    {
     "data": {
      "text/plain": [
       "444.17735732435955"
      ]
     },
     "execution_count": 7,
     "metadata": {},
     "output_type": "execute_result"
    }
   ],
   "source": [
    "a=np.mean(ks)-b*np.mean(zp)\n",
    "a"
   ]
  },
  {
   "cell_type": "code",
   "execution_count": 12,
   "id": "e4254914",
   "metadata": {},
   "outputs": [
    {
     "name": "stdout",
     "output_type": "stream",
     "text": [
      "Таким образом имеется зависимость ks = 444.18 + 2.62 * zp\n"
     ]
    }
   ],
   "source": [
    "print(f'Таким образом имеется зависимость ks = {round(a,2)} + {round(b,2)} * zp')"
   ]
  },
  {
   "cell_type": "code",
   "execution_count": 16,
   "id": "425a7013",
   "metadata": {},
   "outputs": [
    {
     "data": {
      "image/png": "[encoded data removed]",
      "text/plain": [
       "<Figure size 432x288 with 1 Axes>"
      ]
     },
     "metadata": {
      "needs_background": "light"
     },
     "output_type": "display_data"
    }
   ],
   "source": [
    "plt.scatter(zp , ks)\n",
    "plt.plot(zp,444.18+2.62*zp)\n",
    "plt.show()"
   ]
  },
  {
   "cell_type": "markdown",
   "id": "608a9651",
   "metadata": {},
   "source": [
    "*Расчет без intercept (матричный метод):*"
   ]
  },
  {
   "cell_type": "code",
   "execution_count": 31,
   "id": "d90e40d9",
   "metadata": {},
   "outputs": [
    {
     "data": {
      "text/plain": [
       "array([[ 35],\n",
       "       [ 45],\n",
       "       [190],\n",
       "       [200],\n",
       "       [ 40],\n",
       "       [ 70],\n",
       "       [ 54],\n",
       "       [150],\n",
       "       [120],\n",
       "       [110]])"
      ]
     },
     "execution_count": 31,
     "metadata": {},
     "output_type": "execute_result"
    }
   ],
   "source": [
    "zp=zp.reshape(-1,1)\n",
    "zp"
   ]
  },
  {
   "cell_type": "code",
   "execution_count": 32,
   "id": "9188edc1",
   "metadata": {},
   "outputs": [
    {
     "data": {
      "text/plain": [
       "array([[401],\n",
       "       [574],\n",
       "       [874],\n",
       "       [919],\n",
       "       [459],\n",
       "       [739],\n",
       "       [653],\n",
       "       [902],\n",
       "       [746],\n",
       "       [832]])"
      ]
     },
     "execution_count": 32,
     "metadata": {},
     "output_type": "execute_result"
    }
   ],
   "source": [
    "ks=ks.reshape(-1,1)\n",
    "ks"
   ]
  },
  {
   "cell_type": "code",
   "execution_count": 35,
   "id": "7e78a4e4",
   "metadata": {},
   "outputs": [
    {
     "data": {
      "text/plain": [
       "array([[5.88982042]])"
      ]
     },
     "execution_count": 35,
     "metadata": {},
     "output_type": "execute_result"
    }
   ],
   "source": [
    "B=np.dot(np.linalg.inv(np.dot(zp.T,zp)),np.dot(zp.T,ks))\n",
    "B"
   ]
  },
  {
   "cell_type": "code",
   "execution_count": 36,
   "id": "08553329",
   "metadata": {},
   "outputs": [
    {
     "data": {
      "image/png": "[encoded data removed]",
      "text/plain": [
       "<Figure size 432x288 with 1 Axes>"
      ]
     },
     "metadata": {
      "needs_background": "light"
     },
     "output_type": "display_data"
    }
   ],
   "source": [
    "plt.scatter(zp , ks)\n",
    "plt.plot(zp,444.18+2.62*zp)\n",
    "plt.plot(zp,B*zp)\n",
    "plt.show()"
   ]
  },
  {
   "cell_type": "markdown",
   "id": "d384c070",
   "metadata": {},
   "source": [
    "*Посчитать коэффициент линейной регрессии при заработной плате (zp), используя градиентный спуск (без intercept).*"
   ]
  },
  {
   "cell_type": "code",
   "execution_count": 56,
   "id": "d0528c3a",
   "metadata": {},
   "outputs": [],
   "source": [
    "def mse_(b, x, y):\n",
    "    return np.sum((b*x-y)**2)/len(x)"
   ]
  },
  {
   "cell_type": "code",
   "execution_count": 59,
   "id": "c6bd8752",
   "metadata": {},
   "outputs": [
    {
     "name": "stdout",
     "output_type": "stream",
     "text": [
      "iteration = 0, B1 = 0.25952808, mse = 493237.7212546963\n",
      "iteration = 500, B1 = 5.889815595583751, mse = 56516.858416040064\n",
      "iteration = 1000, B1 = 5.8898204201285544, mse = 56516.85841571941\n",
      "iteration = 1500, B1 = 5.889820420132673, mse = 56516.85841571943\n",
      "iteration = 2000, B1 = 5.889820420132673, mse = 56516.85841571943\n",
      "iteration = 2500, B1 = 5.889820420132673, mse = 56516.85841571943\n",
      "iteration = 3000, B1 = 5.889820420132673, mse = 56516.85841571943\n",
      "iteration = 3500, B1 = 5.889820420132673, mse = 56516.85841571943\n",
      "iteration = 4000, B1 = 5.889820420132673, mse = 56516.85841571943\n",
      "iteration = 4500, B1 = 5.889820420132673, mse = 56516.85841571943\n"
     ]
    }
   ],
   "source": [
    "x = np.array([35, 45, 190, 200, 40, 70, 54, 150, 120, 110])\n",
    "y = np.array([401, 574, 874, 919, 459, 739, 653, 902, 746, 832])\n",
    "alpha =1e-6\n",
    "B1 = 0.1\n",
    "n=10\n",
    "\n",
    "for i in range (5000):\n",
    "    B1 -= alpha * (2/n) * np.sum((B1*x-y)*x)\n",
    "    if i % 500 ==0:\n",
    "        print ('iteration = {i}, B1 = {B1}, mse = {mse}'.format(i=i, B1=B1, mse=mse_(B1, x, y)))"
   ]
  },
  {
   "cell_type": "code",
   "execution_count": 63,
   "id": "48113826",
   "metadata": {},
   "outputs": [
    {
     "data": {
      "image/png": "[encoded data removed]",
      "text/plain": [
       "<Figure size 432x288 with 1 Axes>"
      ]
     },
     "metadata": {
      "needs_background": "light"
     },
     "output_type": "display_data"
    }
   ],
   "source": [
    "plt.scatter(x , y)\n",
    "plt.plot(x,B1*x)\n",
    "plt.show()"
   ]
  },
  {
   "cell_type": "code",
   "execution_count": null,
   "id": "1eec3bee",
   "metadata": {},
   "outputs": [],
   "source": []
  }
 ],
 "metadata": {
  "kernelspec": {
   "display_name": "Python 3 (ipykernel)",
   "language": "python",
   "name": "python3"
  },
  "language_info": {
   "codemirror_mode": {
    "name": "ipython",
    "version": 3
   },
   "file_extension": ".py",
   "mimetype": "text/x-python",
   "name": "python",
   "nbconvert_exporter": "python",
   "pygments_lexer": "ipython3",
   "version": "3.9.12"
  }
 },
 "nbformat": 4,
 "nbformat_minor": 5
}
